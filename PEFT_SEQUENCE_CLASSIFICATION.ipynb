{
  "nbformat": 4,
  "nbformat_minor": 0,
  "metadata": {
    "colab": {
      "provenance": [],
      "gpuType": "T4"
    },
    "kernelspec": {
      "name": "python3",
      "display_name": "Python 3"
    },
    "language_info": {
      "name": "python"
    },
    "accelerator": "GPU"
  },
  "cells": [
    {
      "cell_type": "code",
      "execution_count": null,
      "metadata": {
        "id": "qfzSrbqN1RVN"
      },
      "outputs": [],
      "source": [
        "! pip install transformers datasets evaluate accelerate peft -q"
      ]
    },
    {
      "cell_type": "code",
      "source": [
        "import numpy as np\n",
        "import evaluate\n",
        "from datasets import load_dataset\n",
        "from transformers import AutoTokenizer, AutoModelForSequenceClassification\n",
        "from transformers import TrainingArguments, Trainer\n",
        "import pandas as pd\n",
        "from datasets import Dataset"
      ],
      "metadata": {
        "id": "av-BUWSa1an4"
      },
      "execution_count": 2,
      "outputs": []
    },
    {
      "cell_type": "code",
      "source": [
        "from google.colab import drive\n",
        "drive.mount('/content/drive')"
      ],
      "metadata": {
        "id": "0FeCDv8VMC-K"
      },
      "execution_count": null,
      "outputs": []
    },
    {
      "cell_type": "markdown",
      "source": [
        "# Dataset"
      ],
      "metadata": {
        "id": "Cvgbo5AnmLby"
      }
    },
    {
      "cell_type": "markdown",
      "source": [
        "Every annoted dataset can be used for domain adaptaion. If the dataset is changed the tokenzie_function also as to be adapted to access the correct field."
      ],
      "metadata": {
        "id": "rr6XHltDmXJ2"
      }
    },
    {
      "cell_type": "code",
      "source": [
        "labels_df = pd.read_csv('medical_tc_labels.csv')\n",
        "train_df = pd.read_csv('medical_tc_train.csv')\n",
        "test_df = pd.read_csv('medical_tc_test.csv')\n",
        "num_labels = labels_df.shape[0]\n",
        "print(num_labels)\n",
        "\n",
        "# Convert the DataFrame to a Hugging Face Dataset\n",
        "train_dataset = Dataset.from_pandas(train_df)\n",
        "test_dataset = Dataset.from_pandas(test_df)"
      ],
      "metadata": {
        "id": "BD9ucjj2P9AH"
      },
      "execution_count": null,
      "outputs": []
    },
    {
      "cell_type": "code",
      "source": [
        "model_name = \"bert-base-uncased\"\n",
        "\n",
        "tokenizer = AutoTokenizer.from_pretrained(model_name)"
      ],
      "metadata": {
        "id": "uzE6ZqIo1nkt"
      },
      "execution_count": 6,
      "outputs": []
    },
    {
      "cell_type": "code",
      "source": [
        "def tokenize_function(examples):\n",
        "    #return tokenizer(examples[\"text\"], padding=\"max_length\", truncation=True, return_tensors=\"pt\")\n",
        "    tokenized_inputs = tokenizer(examples['medical_abstract'], truncation=True, padding='max_length', max_length=512)\n",
        "    # Here, we assume that 'condition_label' column exists in your CSV and is numeric starting at 1.\n",
        "    # Subtracting 1 from the label since Transformers expects labels to start at 0.\n",
        "    tokenized_inputs['labels'] = [label - 1 for label in examples['condition_label']]\n",
        "    return tokenized_inputs\n",
        "\n",
        "tokenized_train_dataset = train_dataset.map(tokenize_function, batched=True)\n",
        "tokenized_eval_dataset = test_dataset.map(tokenize_function, batched=True)"
      ],
      "metadata": {
        "id": "HOs6Ssyv1uHk"
      },
      "execution_count": null,
      "outputs": []
    },
    {
      "cell_type": "code",
      "source": [
        "metric = evaluate.load(\"accuracy\")\n",
        "def compute_metrics(eval_pred):\n",
        "    logits, labels = eval_pred\n",
        "    predictions = np.argmax(logits, axis=-1)\n",
        "    return metric.compute(predictions=predictions, references=labels)"
      ],
      "metadata": {
        "id": "gw-cFLPt18ty"
      },
      "execution_count": null,
      "outputs": []
    },
    {
      "cell_type": "markdown",
      "source": [
        "# LoRA"
      ],
      "metadata": {
        "id": "RBtvfghTm9f5"
      }
    },
    {
      "cell_type": "code",
      "source": [
        "from peft import LoraConfig, get_peft_model, TaskType\n",
        "\n",
        "lora_config = LoraConfig(\n",
        "    task_type=TaskType.SEQ_CLS,\n",
        "    r=32,\n",
        "    lora_alpha=32,\n",
        "    lora_dropout=0.1,\n",
        "    target_modules=[\"query\", \"value\"],\n",
        "    bias=\"none\",\n",
        ")\n",
        "\n",
        "# add LoRA adaptor\n",
        "model_lora = AutoModelForSequenceClassification.from_pretrained(model_name, num_labels=num_labels)\n",
        "model_lora = get_peft_model(model_lora, lora_config)\n",
        "model_lora.print_trainable_parameters() # see % trainable parameters"
      ],
      "metadata": {
        "id": "gl_AlJvX2EIB"
      },
      "execution_count": null,
      "outputs": []
    },
    {
      "cell_type": "markdown",
      "source": [
        "# Training"
      ],
      "metadata": {
        "id": "kaxZptSZnLbz"
      }
    },
    {
      "cell_type": "code",
      "source": [
        "training_args = TrainingArguments(output_dir=\"bert_peft_trainer\", evaluation_strategy=\"epoch\", num_train_epochs = 15)\n",
        "bert_peft_trainer = Trainer(\n",
        "    model=model_lora,\n",
        "    args=training_args,\n",
        "    train_dataset=tokenized_train_dataset, # training dataset requires column input_ids\n",
        "    eval_dataset=tokenized_eval_dataset,\n",
        "    compute_metrics=compute_metrics,\n",
        ")\n",
        "print(bert_peft_trainer.evaluate())\n",
        "bert_peft_trainer.train()\n",
        "bert_peft_trainer.evaluate()"
      ],
      "metadata": {
        "id": "SLwQTeNA2O2q"
      },
      "execution_count": null,
      "outputs": []
    },
    {
      "cell_type": "code",
      "source": [
        "bert_peft_trainer.save_model('model')"
      ],
      "metadata": {
        "id": "lcK7Rf6SCjzo"
      },
      "execution_count": 13,
      "outputs": []
    },
    {
      "cell_type": "markdown",
      "source": [
        "# Combining the LoRA adapter with the network"
      ],
      "metadata": {
        "id": "OoworIbZnOEB"
      }
    },
    {
      "cell_type": "markdown",
      "source": [
        "It is also possible to use any checkpoint that was created during the training for the adapter depending on which epoch gives the best accuracy."
      ],
      "metadata": {
        "id": "S8H2pn8IhKNP"
      }
    },
    {
      "cell_type": "code",
      "source": [
        "from peft import PeftModel\n",
        "original_model = AutoModelForSequenceClassification.from_pretrained(\"bert-base-uncased\", num_labels=5)\n",
        "original_with_adapter = PeftModel.from_pretrained(\n",
        "  original_model, \"model\"\n",
        ")\n",
        "merged_model = original_with_adapter.merge_and_unload()\n",
        "merged_model.save_pretrained(\"merged-model\")"
      ],
      "metadata": {
        "id": "0838tbn6CtNI"
      },
      "execution_count": null,
      "outputs": []
    },
    {
      "cell_type": "markdown",
      "source": [
        "After this step a LoRA fine-tuned BERT model is created that can be further used."
      ],
      "metadata": {
        "id": "dKoAl0pfnmD7"
      }
    }
  ]
}